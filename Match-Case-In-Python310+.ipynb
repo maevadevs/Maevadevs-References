{
 "cells": [
  {
   "cell_type": "markdown",
   "metadata": {},
   "source": [
    "# Match-Case In Python 3.10+\n",
    "---"
   ]
  },
  {
   "cell_type": "markdown",
   "metadata": {},
   "source": [
    "**Table of Contents**<a id='toc0_'></a>    \n",
    "- [General Usage](#toc1_)    \n",
    "- [Complex Pattern](#toc2_)    \n",
    "- [Using Complex Data Structures](#toc3_)    \n",
    "- [Using Nested Patterns](#toc4_)    \n",
    "\n",
    "<!-- vscode-jupyter-toc-config\n",
    "\tnumbering=false\n",
    "\tanchor=true\n",
    "\tflat=false\n",
    "\tminLevel=2\n",
    "\tmaxLevel=6\n",
    "\t/vscode-jupyter-toc-config -->\n",
    "<!-- THIS CELL WILL BE REPLACED ON TOC UPDATE. DO NOT WRITE YOUR TEXT IN THIS CELL -->"
   ]
  },
  {
   "attachments": {},
   "cell_type": "markdown",
   "metadata": {},
   "source": [
    "---"
   ]
  },
  {
   "cell_type": "markdown",
   "metadata": {},
   "source": [
    "## <a id='toc1_'></a>General Usage [&#8593;](#toc0_)"
   ]
  },
  {
   "attachments": {},
   "cell_type": "markdown",
   "metadata": {},
   "source": [
    "- `match-case` statement is Python's version to mimick `switch-case`\n",
    "- Also adds additional powerful features of *Pattern Matching*\n",
    "- **NOTE: This feature is only available starting with Python 3.10**"
   ]
  },
  {
   "cell_type": "code",
   "execution_count": 1,
   "metadata": {},
   "outputs": [],
   "source": [
    "from inspect import currentframe\n",
    "from sys import version_info as ver\n",
    "\n",
    "def weekday_greeting(day: str) -> str:\n",
    "    \"\"\"Allows to select a greeting based on the day of the week passed.\n",
    "\n",
    "    This function currently only supports Python 3.10+.\n",
    "    For older version, an exception is raised.\n",
    "    \n",
    "    Args:\n",
    "        `day`: Required.\n",
    "            The day of the week. \n",
    "            Use one of the following value (`\"mon\"`,`\"tue\"`,`\"wed\"`,`\"thu\"`,`\"fri\"`,`\"sat\"`,`\"sun\"`). \n",
    "            If the day is not one of those value, raises an exception.\n",
    "    \n",
    "    Returns:\n",
    "        The greeting for the day.\n",
    "    \"\"\"\n",
    "\n",
    "    # Variables\n",
    "    # ---------\n",
    "\n",
    "    this_func_name: str = currentframe().f_code.co_name\n",
    "\n",
    "    # Exceptions Handling\n",
    "    # -------------------\n",
    "\n",
    "    # match-case is only supported by Python 3.10+\n",
    "    if not (ver.major >= 3 and ver.minor >= 10):\n",
    "        raise Exception(f\"`{this_func_name}()` is not supported in Python {ver.major}.{ver.minor}. Python 3.10+ is required.\")\n",
    "    \n",
    "    # Argument `day` must match the specs\n",
    "    if day not in (\"mon\",\"tue\",\"wed\",\"thu\",\"fri\",\"sat\",\"sun\"):\n",
    "        raise Exception(f\"Unable to process the argument `{day}`. Expecting a day value from the specified list. Please check the documentation.\")\n",
    "\n",
    "    # Normal Program Flow\n",
    "    # -------------------\n",
    "    \n",
    "    match day:\n",
    "        case \"mon\":\n",
    "            return \"Mondays are not so bad as people may say! You can do it!\"\n",
    "        case \"fri\":\n",
    "            return \"Have a great weekend!\"\n",
    "        # Multiple cases can be combined with `|`\n",
    "        case \"sat\"|\"sun\":\n",
    "            return \"How is your weekend going?\"\n",
    "        # Optional default: `None` if undefined\n",
    "        case _:\n",
    "            return \"How's your week so far?\"\n",
    "    "
   ]
  },
  {
   "cell_type": "code",
   "execution_count": 2,
   "metadata": {},
   "outputs": [
    {
     "name": "stdout",
     "output_type": "stream",
     "text": [
      "mon - Mondays are not so bad as people may say! You can do it!\n",
      "True ----- Error: Unable to process the argument `True`. Expecting a day value from the specified list. Please check the documentation.\n",
      "thu - How's your week so far?\n",
      "fri - Have a great weekend!\n",
      "123 ----- Error: Unable to process the argument `123`. Expecting a day value from the specified list. Please check the documentation.\n",
      "sat - How is your weekend going?\n",
      "hello ----- Error: Unable to process the argument `hello`. Expecting a day value from the specified list. Please check the documentation.\n"
     ]
    }
   ],
   "source": [
    "# Testing weekday_greeting()\n",
    "# --------------------------\n",
    "\n",
    "arguments = (\"mon\", True, \"thu\", \"fri\", 123, \"sat\", \"hello\")\n",
    "\n",
    "for arg in arguments:\n",
    "    try:\n",
    "        print(f\"{arg} - {weekday_greeting(arg)}\")\n",
    "    except Exception as err:\n",
    "        print(f\"{arg} ----- Error: {err}\")"
   ]
  },
  {
   "cell_type": "markdown",
   "metadata": {},
   "source": [
    "## <a id='toc2_'></a>Complex Pattern [&#8593;](#toc0_)"
   ]
  },
  {
   "attachments": {},
   "cell_type": "markdown",
   "metadata": {},
   "source": [
    "- We can also match complex patterns\n",
    "- `\"_\"` wildcard can be used inside complex patterns as a *throw-away variable*\n",
    "- **NOTE: It is better to list the cases *in a priority order***\n",
    "  - Python will pick whichever first encountered case that satisfy the condition\n",
    "  - *If multiple cases match the condition, only the first encountered is used*"
   ]
  },
  {
   "cell_type": "code",
   "execution_count": 3,
   "metadata": {},
   "outputs": [],
   "source": [
    "from inspect import currentframe\n",
    "from typing import Tuple\n",
    "\n",
    "def which_person(person: Tuple[str, int, str]) -> str|None:\n",
    "    \"\"\"Say something about the person based on the data passed.\n",
    "\n",
    "    This function currently only supports Python 3.10+.\n",
    "    For older version, an exception is raised.\n",
    "\n",
    "    Args:\n",
    "        `person`: Required.\n",
    "            A tuple representing the person.\n",
    "            Expected format is a tuple `(name, age, gender)`.\n",
    "\n",
    "    Returns:\n",
    "        str|None: A short description of the person, or `None` if no Pattern match found.\n",
    "    \"\"\"\n",
    "\n",
    "    # Variables\n",
    "    # ---------\n",
    "\n",
    "    this_func_name: str = currentframe().f_code.co_name\n",
    "\n",
    "    # Exceptions Handling\n",
    "    # -------------------\n",
    "\n",
    "    # match-case is only supported by Python 3.10+\n",
    "    if not (ver.major >= 3 and ver.minor >= 10):\n",
    "        raise Exception(f\"`{this_func_name}()` is not supported in Python {ver.major}.{ver.minor}. Python 3.10+ is required.\")\n",
    "\n",
    "    # Argument `person` is required\n",
    "    if not person:\n",
    "        raise Exception(\"Argument `person` is required.\")\n",
    "\n",
    "    # Normal Program Flow\n",
    "    # -------------------\n",
    "    result: str = ''\n",
    "\n",
    "    match person:\n",
    "        # List in order of priority\n",
    "        # Only the first match is used\n",
    "        case name, _ , \"male\":\n",
    "            result = f\"{name} is a man.\"\n",
    "        case name, _ , \"female\":\n",
    "            result = f\"{name} is a woman.\"\n",
    "        case name, age , _:\n",
    "            result = f\"{name} is {age} year{'s' if age > 1 else None} old\"\n",
    "\n",
    "    return result"
   ]
  },
  {
   "cell_type": "code",
   "execution_count": 4,
   "metadata": {},
   "outputs": [
    {
     "name": "stdout",
     "output_type": "stream",
     "text": [
      "('John', 30, 'male') -- John is a man.\n",
      "('Mary', 31, 'female') -- Mary is a woman.\n",
      "('Elizabeth', 28) -- \n",
      "Jeremy -- \n",
      "('Adam', 50, 'non-binary') -- Adam is 50 years old\n"
     ]
    }
   ],
   "source": [
    "# Testing which_person()\n",
    "# --------------------------\n",
    "\n",
    "arguments = (\n",
    "    (\"John\", 30, \"male\"),\n",
    "    (\"Mary\", 31, \"female\"),\n",
    "    (\"Elizabeth\", 28),\n",
    "    (\"Jeremy\"),\n",
    "    (\"Adam\", 50, \"non-binary\")\n",
    ")\n",
    "\n",
    "for person in arguments:\n",
    "    try:\n",
    "        print(f\"{person} -- {which_person(person)}\")\n",
    "    except Exception as err:\n",
    "        print(f\"{person} ----- Error: {err}\")"
   ]
  },
  {
   "cell_type": "markdown",
   "metadata": {},
   "source": [
    "## <a id='toc3_'></a>Using Complex Data Structures [&#8593;](#toc0_)"
   ]
  },
  {
   "attachments": {},
   "cell_type": "markdown",
   "metadata": {},
   "source": [
    "- We are not limited to simple data structures for matching\n",
    "  - E.g. we could match against class attributes with patterns that resemble a class constructor\n",
    "  - When using this approach, individual attributes get captured into variables"
   ]
  },
  {
   "cell_type": "code",
   "execution_count": 5,
   "metadata": {},
   "outputs": [],
   "source": [
    "from dataclasses import dataclass\n",
    "\n",
    "@dataclass\n",
    "class Person:\n",
    "    \"\"\"A simple Person class.\"\"\"\n",
    "\n",
    "    # Attributes: With Default Values for the optionals\n",
    "    # ----------\n",
    "\n",
    "    name: str\n",
    "    age: int = 0\n",
    "    gender: str = \"\"\n",
    "\n",
    "    # Methods\n",
    "    # -------\n",
    "    \n",
    "    def which_person(person: Tuple[str, int, str]) -> str|None:\n",
    "        \"\"\"Say something about the person based on the data passed.\n",
    "\n",
    "        This function currently only supports Python 3.10+.\n",
    "        For older version, an exception is raised.\n",
    "\n",
    "        Args:\n",
    "            `person`: Required.\n",
    "                A tuple representing the person.\n",
    "                Expected format is a tuple `(name, age, gender)`.\n",
    "\n",
    "        Returns:\n",
    "            str|None: A short description of the person, or `None` if no Pattern match found.\n",
    "        \"\"\"\n",
    "\n",
    "        # Variables\n",
    "        # ---------\n",
    "\n",
    "        this_func_name: str = currentframe().f_code.co_name\n",
    "\n",
    "        # Exceptions Handling\n",
    "        # -------------------\n",
    "\n",
    "        # match-case is only supported by Python 3.10+\n",
    "        if not (ver.major >= 3 and ver.minor >= 10):\n",
    "            raise Exception(f\"`{this_func_name}()` is not supported in Python {ver.major}.{ver.minor}. Python 3.10+ is required.\")\n",
    "\n",
    "        # Argument `person` is required\n",
    "        if not person:\n",
    "            raise Exception(\"Argument `person` is required.\")\n",
    "\n",
    "        # Normal Program Flow\n",
    "        # -------------------\n",
    "\n",
    "        match person:\n",
    "            # Person() here is NOT a constructor-call but a pattern to match the used constructor format\n",
    "            # Additional conditions can also be used\n",
    "            case Person(name, age, _) if age < 18:\n",
    "                return f\"{name} is a child.\"\n",
    "            case Person(name, _ , \"male\"):\n",
    "                return f\"{name} is a man.\"\n",
    "            case Person(name, _ , \"female\"):\n",
    "                return f\"{name} is a woman.\"\n",
    "            case Person(name, age , _):\n",
    "                return f\"{name} is {age} year{'s' if age > 1 else None} old\"\n",
    "            # If no match found, return a default\n",
    "            case _:\n",
    "                return(\"A new Person.\")"
   ]
  },
  {
   "cell_type": "code",
   "execution_count": 6,
   "metadata": {},
   "outputs": [
    {
     "name": "stdout",
     "output_type": "stream",
     "text": [
      "Person(name='John', age=30, gender='male') -- \n",
      "Person(name='Mary', age=31, gender='female') -- \n",
      "Person(name='Elizabeth', age=15, gender='') -- \n",
      "Person(name='Jeremy', age=0, gender='') -- \n",
      "Person(name='Adam', age=50, gender='non-binary') -- \n"
     ]
    }
   ],
   "source": [
    "# Testing Person.which_person()\n",
    "# -----------------------------\n",
    "\n",
    "arguments = (\n",
    "    Person(\"John\", 30, \"male\"),\n",
    "    Person(\"Mary\", 31, \"female\"),\n",
    "    Person(\"Elizabeth\", 15),\n",
    "    Person(\"Jeremy\"),\n",
    "    Person(\"Adam\", 50, \"non-binary\")\n",
    ")\n",
    "\n",
    "for person in arguments:\n",
    "    try:\n",
    "        print(f\"{person} -- {which_person(person)}\")\n",
    "    except Exception as err:\n",
    "        print(f\"{person} ----- Error: {err}\")"
   ]
  },
  {
   "cell_type": "markdown",
   "metadata": {},
   "source": [
    "## <a id='toc4_'></a>Using Nested Patterns [&#8593;](#toc0_)"
   ]
  },
  {
   "attachments": {},
   "cell_type": "markdown",
   "metadata": {},
   "source": [
    "- We can also use *Nested Patterns*\n",
    "- We can access patterns inside of iterables\n",
    "  - We can capture sub-pattern into variables for further processing\n",
    "  - It is possible to use a *packing* operator with `*var`"
   ]
  },
  {
   "cell_type": "code",
   "execution_count": 7,
   "metadata": {},
   "outputs": [
    {
     "name": "stdout",
     "output_type": "stream",
     "text": [
      "We don't know the first user.\n",
      "The second user is Mary.\n",
      "And the remaining are: ['Carla', 'Eric']\n"
     ]
    }
   ],
   "source": [
    "from typing import List\n",
    "\n",
    "users: List[Person] = [\n",
    "    Person(name=\"John\", gender=\"male\", age=25),\n",
    "    Person(name=\"Mary\", gender=\"female\", age=20),\n",
    "    Person(name=\"Carla\", gender=\"nonbinary\", age=40),\n",
    "    Person(name=\"Eric\", gender=None, age=30)\n",
    "]\n",
    "\n",
    "match users:\n",
    "    # Matching a list of Person objects\n",
    "    case [Person()]:\n",
    "        print(\"One user provided.\")\n",
    "    # Capture sub-pattern into variable\n",
    "    case [Person(), Person() as p, *remaining]:\n",
    "        print(f\"We don't know the first user.\")\n",
    "        print(f\"The second user is {p.name}.\")\n",
    "        print(f\"And the remaining are: {[p.name for p in remaining]}\")\n",
    "    # We can pack values in iterables\n",
    "    case [*all]:\n",
    "        count = len(all)\n",
    "        print(f\"We have lots of users, precisely {count}\")"
   ]
  }
 ],
 "metadata": {
  "kernelspec": {
   "display_name": "venv310",
   "language": "python",
   "name": "python3"
  },
  "language_info": {
   "codemirror_mode": {
    "name": "ipython",
    "version": 3
   },
   "file_extension": ".py",
   "mimetype": "text/x-python",
   "name": "python",
   "nbconvert_exporter": "python",
   "pygments_lexer": "ipython3",
   "version": "3.10.10"
  },
  "orig_nbformat": 4,
  "vscode": {
   "interpreter": {
    "hash": "6e400aa61d85e496d68b2399928a7ddcb9f74ee26aa2584481c22b89bfb1eab7"
   }
  }
 },
 "nbformat": 4,
 "nbformat_minor": 2
}
